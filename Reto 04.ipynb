{
 "cells": [
  {
   "cell_type": "markdown",
   "metadata": {},
   "source": [
    "# Problema 1\n",
    "Dado un número entero, determinar si ese número corresponde al código ASCII de una vocal minúscula."
   ]
  },
  {
   "cell_type": "code",
   "execution_count": null,
   "metadata": {},
   "outputs": [],
   "source": [
    "x : int\n",
    "x = int(input(\"Ingrese un numero\"))\n",
    "if x == 97:\n",
    "  print(\"El numero pertenece a el codigo ASSCI, por tanto la vocal para\", x , \"es a\")\n",
    "elif x == 101:\n",
    "  print(\"El numero pertenece a el codigo ASSCI, por tanto la vocal para\", x , \" es e\")\n",
    "elif x ==105:\n",
    "  print(\"El numero pertenece a el codigo ASSCI, por tanto la vocal para\", x , \"es i\")\n",
    "elif x ==111:\n",
    "  print(\"El numero pertenece a el codigo ASSCI, por tanto la vocal para\", x , \"es o\")\n",
    "elif x ==117:\n",
    "  print(\"El numero pertenece a el codigo ASSCI, por tanto la vocal para\", x , \"es u\")\n",
    "else:\n",
    "  print(\"El numero pertenece a el codigo ASSCI\", x)"
   ]
  },
  {
   "cell_type": "markdown",
   "metadata": {},
   "source": [
    "# Problema 2\n",
    "Dada una cadena de longitud 1, determine si el código ASCII de primera letra de la cadena es par o no."
   ]
  },
  {
   "cell_type": "code",
   "execution_count": null,
   "metadata": {},
   "outputs": [],
   "source": [
    "a=str\n",
    "a=str(input(\"ingrese solo un caracter\"))\n",
    "if ord(x) % 2 == 0:\n",
    "  print(\"El codigo del caracter\", x , \"es par en codigo ASCCI\")\n",
    "else:\n",
    "  print(\"El codigo del caracter \", x , \"es impar en codigo ASCCI\")"
   ]
  },
  {
   "cell_type": "markdown",
   "metadata": {},
   "source": [
    "# Problema 3\n",
    "Dado un carácter, construya un programa en Python para determinar si el carácter es un dígito o no."
   ]
  },
  {
   "cell_type": "code",
   "execution_count": null,
   "metadata": {},
   "outputs": [],
   "source": [
    "x = input(\"ingrese un caracter: \")\n",
    "if x >= \"0\" and x <= \"9\":\n",
    "    print(\"el caracter es digito\")\n",
    "else:\n",
    "  print(\"no es digito\")"
   ]
  },
  {
   "cell_type": "markdown",
   "metadata": {},
   "source": [
    "# Problema 4\n",
    "Realice un programa que lea dos números reales y determine si el primero es múltiplo del segundo"
   ]
  },
  {
   "cell_type": "code",
   "execution_count": null,
   "metadata": {},
   "outputs": [],
   "source": [
    "x : float\n",
    "y : float\n",
    "x = float(input(\"Ingrese el primer numero \"))\n",
    "y = float(input(\"Ingrese el segundo numero \"))\n",
    "if x % y == 0:\n",
    "  print(x, \"es multiplo de \", y)\n",
    "else:\n",
    "  print(x, \"no es multiplo de \", y)"
   ]
  },
  {
   "cell_type": "markdown",
   "metadata": {},
   "source": [
    "# Problema 5\n",
    "Dado un número real x, construya un programa que permita determinar si el número es positivo, negativo o cero. Para cada caso de debe imprimir el texto que se especifica a continuación:"
   ]
  },
  {
   "cell_type": "code",
   "execution_count": null,
   "metadata": {},
   "outputs": [],
   "source": [
    "x = float(input(\"Digite un número: \"))\n",
    "if x<0:\n",
    "  print(f\"El número {x} es negativo\")\n",
    "if x==0:\n",
    "  print(f\"El número {x} es neutro para la suma\")\n",
    "if x>0:\n",
    "  print(f\"El número {x} es positivo\")"
   ]
  },
  {
   "cell_type": "markdown",
   "metadata": {},
   "source": [
    "# Problema 6\n",
    "Dado el centro y el radio de un círculo, determinar si un punto de R2 pertenece o no al interior del círculo."
   ]
  },
  {
   "cell_type": "code",
   "execution_count": null,
   "metadata": {},
   "outputs": [],
   "source": [
    "x_centro = float(input(\"Ingresa la coordenada x del centro del círculo: \"))\n",
    "y_centro = float(input(\"Ingresa la coordenada y del centro del círculo: \"))\n",
    "radio = float(input(\"Ingresa el radio del círculo: \"))\n",
    "x_punto = float(input(\"Ingresa la coordenada x del punto: \"))\n",
    "y_punto = float(input(\"Ingresa la coordenada y del punto: \"))\n",
    "\n",
    "distancia_cuadrada = (x_punto - x_centro) * (x_punto - x_centro) + (y_punto - y_centro) * (y_punto - y_centro)\n",
    "radio_cuadrado = radio * radio\n",
    "\n",
    "if distancia_cuadrada < radio_cuadrado:\n",
    "    print(\"El punto está dentro del círculo.\")\n",
    "elif distancia_cuadrada == radio_cuadrado:\n",
    "    print(\"El punto está sobre el círculo.\")\n",
    "else:\n",
    "    print(\"El punto está fuera del círculo.\")"
   ]
  },
  {
   "cell_type": "markdown",
   "metadata": {},
   "source": [
    "# Problema 7\n",
    "Dadas tres longitudes positivas, determinar si con esas longitudes se puede construir un triángulo."
   ]
  },
  {
   "cell_type": "code",
   "execution_count": null,
   "metadata": {},
   "outputs": [],
   "source": [
    "a = float(input(\"Ingresa la longitud del primer lado: \"))\n",
    "b = float(input(\"Ingresa la longitud del segundo lado: \"))\n",
    "c = float(input(\"Ingresa la longitud del tercer lado: \"))\n",
    "if a <= 0 or b <= 0 or c <= 0:\n",
    "  print(\"Las longitudes deben ser positivas.\")\n",
    "if a + b > c and a + c > b and b + c > a:\n",
    "  print(\"Se puede construir un triángulo con estas longitudes.\")\n",
    "else:\n",
    "  print(\"No se puede construir un triángulo.\")"
   ]
  },
  {
   "cell_type": "markdown",
   "metadata": {},
   "source": [
    "# Problema 8\n",
    " Escriba un programa que reciba el nombre en minúsculas de un país de America y retorne la ciudad capital, si el país no pertenece al continente debe arrojar país no identificado (Utilice match-case)."
   ]
  },
  {
   "cell_type": "code",
   "execution_count": null,
   "metadata": {},
   "outputs": [],
   "source": [
    "pais = input(\"Ingresa el nombre de un país de América en minúsculas: \")\n",
    "match pais:\n",
    "  case \"argentina\":\n",
    "    print(\"Buenos Aires\")\n",
    "  case \"bolivia\":\n",
    "    print(\"Sucre\")\n",
    "  case \"brasil\":\n",
    "    print(\"Brasilia\")\n",
    "  case \"chile\":\n",
    "    print(\"Santiago de Chile\")\n",
    "  case \"colombia\":\n",
    "    print(\"Bogotá\")\n",
    "  case \"ecuador\":\n",
    "    print(\"Quito\")\n",
    "  case  \"paraguay\":\n",
    "    print(\"Asunción\")\n",
    "  case \"peru\":\n",
    "    print(\"Lima\")\n",
    "  case \"surinam\":\n",
    "    print(\"Parabarimo\")\n",
    "  case \"trinidad y tobago\":\n",
    "    print(\"Puerto España\")\n",
    "  case \"uruguay\":\n",
    "    print(\"Montevideo\")\n",
    "  case \"venezuela\":\n",
    "    print(\"Caracas\")\n",
    "  case \"belice\":\n",
    "    print(\"Belmopán\")\n",
    "  case \"costa rica\":\n",
    "    print(\"San José\")\n",
    "  case \"el salvador\":\n",
    "    print(\"San Salvador\")\n",
    "  case \"guatemala\":\n",
    "    print(\"Ciudad de Guatemala\")\n",
    "  case \"honduras\":\n",
    "    print(\"Tegucigalpa\")\n",
    "  case \"nicaragua\":\n",
    "    print(\"Managua\")\n",
    "  case \"panama\":\n",
    "    print(\"Panamá\")\n",
    "  case \"canada\":\n",
    "    print(\"Otawwa\")\n",
    "  case \"estados unidos\":\n",
    "    print(\"Washington DC\")\n",
    "  case \"mexico\":\n",
    "    print(\"México DF\")\n",
    "  case _:\n",
    "        print(\"No es un pais indentificado o no se encuentra en America\")\n",
    "\n"
   ]
  }
 ],
 "metadata": {
  "language_info": {
   "name": "python"
  }
 },
 "nbformat": 4,
 "nbformat_minor": 2
}
